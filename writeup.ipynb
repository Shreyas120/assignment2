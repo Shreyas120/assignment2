{
 "cells": [
  {
   "cell_type": "markdown",
   "metadata": {},
   "source": [
    "# <p align=\"center\" style=\"color:rgb(55, 113, 197);\">[16-825: Learning for 3D Vision](https://learning3d.github.io/)</p>\n",
    "### <p align=\"center\" style=\"color:rgb(0, 0, 0);\">Rendering Basics with PyTorch3D</p>\n",
    "<p align=\"center\" style=\"color:rgb(55, 113, 197);\">\n",
    "    Shreyas Jha &nbsp;&nbsp;&nbsp;&nbsp;&nbsp;&nbsp;&nbsp;&nbsp;\n",
    "    <a href=\"https://github.com/Shreyas120/assignment2\">Code</a> \n",
    "</p>\n",
    "\n",
    "<!-- Color theme\n",
    "    Dark color:rgb(42, 88, 153)\n",
    "    Medium (55, 113, 197)\n",
    "    Light and bright color:rgb(68, 129, 211)\n",
    " -->\n",
    "\n",
    "***"
   ]
  },
  {
   "cell_type": "markdown",
   "metadata": {},
   "source": [
    "## <p align=\"center\" style=\"color:rgb(55, 113, 197);\">1.&nbsp;Exploring loss functions </p>\n",
    "\n",
    "### <p align=\"center\" style=\"color:rgb(55, 113, 197);\">1.1.&nbsp;Fitting a voxel grid </p>\n",
    "#### <p align=\"center\" style=\"color:rgb(42, 88, 153);\">![Fit pointel GIF](./data/shreyasj/1/fit_vox.gif)</p>\n",
    "\n",
    "### <p align=\"center\" style=\"color:rgb(55, 113, 197);\">1.2.&nbsp;Fitting a point cloud </p>\n",
    "#### <p align=\"center\" style=\"color:rgb(42, 88, 153);\">![Fit point clouds GIF](./data/shreyasj/1/fit_point.gif)</p>\n",
    "\n",
    "### <p align=\"center\" style=\"color:rgb(55, 113, 197);\">1.3.&nbsp;Fitting a mesh </p>\n",
    "#### <p align=\"center\" style=\"color:rgb(42, 88, 153);\">![Fit Mesh GIF](./data/shreyasj/1/fit_mesh.gif)</p>\n",
    "---"
   ]
  },
  {
   "cell_type": "markdown",
   "metadata": {},
   "source": [
    "<div align=\"center\">\n",
    "\n",
    "## <p align=\"center\" style=\"color:rgb(55, 113, 197);\">2.&nbsp;Reconstructing 3D from single view</p>\n",
    "\n",
    "### <p align=\"center\" style=\"color:rgb(55, 113, 197);\">2.1.&nbsp;Image to voxel grid</p>\n",
    "\n",
    "| <p align=\"center\" style=\"color:rgb(55, 113, 197);\">Input image </p> | <p align=\"center\" style=\"color:rgb(55, 113, 197);\">3D Structures </p> |\n",
    "| -------- | ---------------- | \n",
    "| ![I/p image](./data/shreyasj/2/eval_vox_gtimg_110.png) | ![GIF](./data/shreyasj/2/eval_vox_110.gif) | \n",
    "| ![I/p image](./data/shreyasj/2/eval_vox_gtimg_220.png) | ![GIF](./data/shreyasj/2/eval_vox_220.gif) | \n",
    "| ![I/p image](./data/shreyasj/2/eval_vox_gtimg_330.png) | ![GIF](./data/shreyasj/2/eval_vox_330.gif) | \n",
    "\n",
    "### <p align=\"center\" style=\"color:rgb(55, 113, 197);\">2.2.&nbsp;Image to point cloud</p>\n",
    "\n",
    "| <p align=\"center\" style=\"color:rgb(55, 113, 197);\">Input image </p> | <p align=\"center\" style=\"color:rgb(55, 113, 197);\">3D Structures </p> |\n",
    "| -------- | ---------------- | \n",
    "| ![I/p image](./data/shreyasj/2/eval_point_gtimg_110.png) | ![GIF](./data/shreyasj/2/eval_point_110.gif) | \n",
    "| ![I/p image](./data/shreyasj/2/eval_point_gtimg_220.png) | ![GIF](./data/shreyasj/2/eval_point_220.gif) | \n",
    "| ![I/p image](./data/shreyasj/2/eval_point_gtimg_330.png) | ![GIF](./data/shreyasj/2/eval_point_330.gif) | \n",
    "\n",
    "### <p align=\"center\" style=\"color:rgb(55, 113, 197);\">2.3.&nbsp;Image to mesh</p>\n",
    "\n",
    "| <p align=\"center\" style=\"color:rgb(55, 113, 197);\">Input image </p> | <p align=\"center\" style=\"color:rgb(55, 113, 197);\">3D Structures </p> |\n",
    "| -------- | ---------------- | \n",
    "| ![I/p image](./data/shreyasj/2/eval_mesh_gtimg_110.png) | ![GIF](./data/shreyasj/2/eval_mesh_110.gif) | \n",
    "| ![I/p image](./data/shreyasj/2/eval_mesh_gtimg_220.png) | ![GIF](./data/shreyasj/2/eval_mesh_220.gif) | \n",
    "| ![I/p image](./data/shreyasj/2/eval_mesh_gtimg_330.png) | ![GIF](./data/shreyasj/2/eval_mesh_330.gif) | \n",
    "\n",
    "### <p align=\"center\" style=\"color:rgb(55, 113, 197);\">2.4.&nbsp;Quantitative comparisions</p>\n",
    "\n",
    "| <p align=\"center\" style=\"color:rgb(55, 113, 197);\">Image to voxel grid </p> | <p align=\"center\" style=\"color:rgb(55, 113, 197);\">Image to point cloud </p> | <p align=\"center\" style=\"color:rgb(55, 113, 197);\">Image to mesh </p> |\n",
    "| -------- | ---------------- |  ---------------- | \n",
    "| ![Eval image vox](./data/shreyasj/2/2.4/eval_vox.png) | ![Eval image point](./data/shreyasj/2/2.4/eval_point.png) | ![Eval image mesh](./data/shreyasj/2/2.4/eval_mesh.png)  |\n",
    "\n",
    "### <p align=\"center\" style=\"color:rgb(55, 113, 197);\">2.5.&nbsp;Effects of hyperparameter variations</p>\n",
    "\n",
    "| <p align=\"center\" style=\"color:rgb(55, 113, 197);\">1k points </p> | <p align=\"center\" style=\"color:rgb(55, 113, 197);\">3k points </p> | <p align=\"center\" style=\"color:rgb(55, 113, 197);\">20k points </p> |\n",
    "| -------- | ---------------- |  ---------------- | \n",
    "| ![Eval image point 1,000](./data/shreyasj/2/2.4/eval_vox.png) | ![Eval image point 3,000](./data/shreyasj/2/2.4/eval_point.png) | ![Eval image point 20,000](./data/shreyasj/2/2.4/eval_mesh.png)  | \n",
    "\n",
    "### <p align=\"center\" style=\"color:rgb(55, 113, 197);\">2.6.&nbsp;Model Interpretation</p>\n",
    "\n",
    "</div>"
   ]
  },
  {
   "cell_type": "markdown",
   "metadata": {},
   "source": [
    "## <p align=\"center\" style=\"color:rgb(55, 113, 197);\">3.&nbsp;Exploring other architectures / datasets</p>\n",
    "\n",
    "### <p align=\"center\" style=\"color:rgb(55, 113, 197);\">3.3.&nbsp;Extended dataset for training</p>\n",
    "\n",
    "---"
   ]
  },
  {
   "cell_type": "markdown",
   "metadata": {},
   "source": [
    "---\n",
    "## <p align=\"center\" style=\"color:rgb(55, 113, 197);\">Late days used</p>\n",
    "\n",
    "## <p align=\"center\" style=\"color:rgb(42, 88, 153);\">![Two](./data/shreyasj/late/two.png)</p>\n",
    "<p align=\"center\" style=\"color:rgb(55, 113, 197);\">\n",
    "    <a href=\"https://github.com/learning3d/learning3d.github.io/tree/main/spring23/data/late_days\">Image Source</a> \n",
    "</p>\n"
   ]
  }
 ],
 "metadata": {
  "kernelspec": {
   "display_name": "Python 3",
   "language": "python",
   "name": "python3"
  },
  "language_info": {
   "name": "python",
   "version": "3.8.10"
  }
 },
 "nbformat": 4,
 "nbformat_minor": 2
}
